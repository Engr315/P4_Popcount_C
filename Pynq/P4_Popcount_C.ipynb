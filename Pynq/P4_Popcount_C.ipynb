{
 "cells": [
  {
   "cell_type": "markdown",
   "metadata": {},
   "source": [
    "## Project 4 - Popcount MMIO in C\n",
    "\n",
    "Version: 2022.0"
   ]
  },
  {
   "cell_type": "code",
   "execution_count": 1,
   "metadata": {},
   "outputs": [],
   "source": [
    "import importlib\n",
    "import numpy as np\n",
    "import time\n",
    "import os"
   ]
  },
  {
   "cell_type": "code",
   "execution_count": 2,
   "metadata": {},
   "outputs": [],
   "source": [
    "def countInt(n):        \n",
    "    w = 0\n",
    "    while (n):\n",
    "        w += 1\n",
    "        n &= n - 1\n",
    "    return w\n",
    "         \n",
    "def countArray (buf):\n",
    "    total_ones = 0\n",
    "    for b in buf:\n",
    "        total_ones += countInt(b)\n",
    "    return total_ones\n",
    "        \n",
    "def countFile(file):\n",
    "    f = open(file, \"r\")\n",
    "    buf = np.fromfile(f, dtype=np.uint32)\n",
    "    return countArray(buf)      \n",
    "    "
   ]
  },
  {
   "cell_type": "code",
   "execution_count": 3,
   "metadata": {},
   "outputs": [],
   "source": [
    "input_files_path = os.getcwd()+'/data/'\n",
    "names = os.listdir(input_files_path)\n",
    "input_files = os.listdir(input_files_path)\n",
    "for i in range(len(input_files)):\n",
    "    input_files[i] = input_files_path + input_files[i]\n",
    "input_files.sort(key=lambda x: os.path.getsize(x))\n",
    "names.sort(key=lambda x: os.path.getsize(\"data/\"+x))"
   ]
  },
  {
   "cell_type": "code",
   "execution_count": 4,
   "metadata": {},
   "outputs": [
    {
     "data": {
      "application/javascript": [
       "\n",
       "try {\n",
       "require(['notebook/js/codecell'], function(codecell) {\n",
       "  codecell.CodeCell.options_default.highlight_modes[\n",
       "      'magic_text/x-csrc'] = {'reg':[/^%%microblaze/]};\n",
       "  Jupyter.notebook.events.one('kernel_ready.Kernel', function(){\n",
       "      Jupyter.notebook.get_cells().map(function(cell){\n",
       "          if (cell.cell_type == 'code'){ cell.auto_highlight(); } }) ;\n",
       "  });\n",
       "});\n",
       "} catch (e) {};\n"
      ]
     },
     "metadata": {},
     "output_type": "display_data"
    },
    {
     "data": {
      "application/javascript": [
       "\n",
       "try {\n",
       "require(['notebook/js/codecell'], function(codecell) {\n",
       "  codecell.CodeCell.options_default.highlight_modes[\n",
       "      'magic_text/x-csrc'] = {'reg':[/^%%pybind11/]};\n",
       "  Jupyter.notebook.events.one('kernel_ready.Kernel', function(){\n",
       "      Jupyter.notebook.get_cells().map(function(cell){\n",
       "          if (cell.cell_type == 'code'){ cell.auto_highlight(); } }) ;\n",
       "  });\n",
       "});\n",
       "} catch (e) {};\n"
      ]
     },
     "metadata": {},
     "output_type": "display_data"
    },
    {
     "data": {
      "text/plain": [
       "<module 'Python.MyHardwarePopcount' from '/home/xilinx/jupyter_notebooks/P4_Popcount_C/Pynq/Python/MyHardwarePopcount.py'>"
      ]
     },
     "execution_count": 4,
     "metadata": {},
     "output_type": "execute_result"
    }
   ],
   "source": [
    "from Python import MyHardwarePopcount\n",
    "importlib.reload(MyHardwarePopcount)"
   ]
  },
  {
   "cell_type": "code",
   "execution_count": 5,
   "metadata": {},
   "outputs": [
    {
     "name": "stdout",
     "output_type": "stream",
     "text": [
      "Timeing 'tiny.bin'\n",
      "Filename: /home/xilinx/jupyter_notebooks/P4_Popcount_C/Pynq/data/tiny.bin\n",
      "Counted 968 ones in 0.01644444465637207 seconds\n",
      "Total Time: 0.01644444465637207\n",
      "\n",
      "Timeing 'ones.bin'\n",
      "Filename: /home/xilinx/jupyter_notebooks/P4_Popcount_C/Pynq/data/ones.bin\n",
      "Counted 2048 ones in 0.020716428756713867 seconds\n",
      "Total Time: 0.020716428756713867\n",
      "\n",
      "Timeing 'zeros.bin'\n",
      "Filename: /home/xilinx/jupyter_notebooks/P4_Popcount_C/Pynq/data/zeros.bin\n",
      "Counted 0 ones in 0.0027048587799072266 seconds\n",
      "Total Time: 0.0027048587799072266\n",
      "\n",
      "Timeing 'small.bin'\n",
      "Filename: /home/xilinx/jupyter_notebooks/P4_Popcount_C/Pynq/data/small.bin\n",
      "Counted 16314 ones in 0.212754487991333 seconds\n",
      "Total Time: 0.212754487991333\n",
      "\n",
      "Timeing 'medium.bin'\n",
      "Filename: /home/xilinx/jupyter_notebooks/P4_Popcount_C/Pynq/data/medium.bin\n",
      "Counted 4196661 ones in 48.83318638801575 seconds\n",
      "Total Time: 48.83318638801575\n",
      "\n"
     ]
    }
   ],
   "source": [
    "sw_popcount_results_python = []\n",
    "i=0\n",
    "for file in input_files[:5]: # just doing a couple files so this doesn't take forever\n",
    "    print(\"Timeing '\"+names[i]+\"'\")\n",
    "    start = time.time()\n",
    "    count = countFile(file)\n",
    "    end = time.time()\n",
    "    t = end - start\n",
    "    sw_popcount_results_python += [t]\n",
    "    print(\"Filename:\",file)\n",
    "    print(\"Counted\",count,\"ones in\",t,\"seconds\") \n",
    "    print(\"Total Time:\", t)\n",
    "    print()\n",
    "    i+=1"
   ]
  },
  {
   "cell_type": "code",
   "execution_count": 6,
   "metadata": {},
   "outputs": [
    {
     "name": "stdout",
     "output_type": "stream",
     "text": [
      "Timeing 'tiny.bin'\n",
      "Filename: /home/xilinx/jupyter_notebooks/P4_Popcount_C/Pynq/data/tiny.bin\n",
      "Counted 968 ones in 0.005457162857055664 seconds\n",
      "Total Time: 0.005457162857055664\n",
      "\n",
      "Timeing 'ones.bin'\n",
      "Filename: /home/xilinx/jupyter_notebooks/P4_Popcount_C/Pynq/data/ones.bin\n",
      "Counted 2048 ones in 0.004873752593994141 seconds\n",
      "Total Time: 0.004873752593994141\n",
      "\n",
      "Timeing 'zeros.bin'\n",
      "Filename: /home/xilinx/jupyter_notebooks/P4_Popcount_C/Pynq/data/zeros.bin\n",
      "Counted 0 ones in 0.004394054412841797 seconds\n",
      "Total Time: 0.004394054412841797\n",
      "\n",
      "Timeing 'small.bin'\n",
      "Filename: /home/xilinx/jupyter_notebooks/P4_Popcount_C/Pynq/data/small.bin\n",
      "Counted 16314 ones in 0.037782907485961914 seconds\n",
      "Total Time: 0.037782907485961914\n",
      "\n",
      "Timeing 'medium.bin'\n",
      "Filename: /home/xilinx/jupyter_notebooks/P4_Popcount_C/Pynq/data/medium.bin\n",
      "Counted 4196661 ones in 8.06983208656311 seconds\n",
      "Total Time: 8.06983208656311\n",
      "\n",
      "Timeing 'large.bin'\n",
      "Filename: /home/xilinx/jupyter_notebooks/P4_Popcount_C/Pynq/data/large.bin\n",
      "Counted 41941497 ones in 80.14609384536743 seconds\n",
      "Total Time: 80.14609384536743\n",
      "\n"
     ]
    }
   ],
   "source": [
    "hw_counter = MyHardwarePopcount.MyHardwarePopcount()\n",
    "i=0\n",
    "hw_popcount_results_python = []\n",
    "for file in input_files: # just doing a couple files so this doesn't take forever\n",
    "    print(\"Timeing '\"+names[i]+\"'\")\n",
    "    start = time.time()\n",
    "    count = hw_counter.countFile(file)\n",
    "    end = time.time()\n",
    "    t = end - start\n",
    "    hw_popcount_results_python += [t]\n",
    "    print(\"Filename:\",file)\n",
    "    print(\"Counted\",count,\"ones in\",t,\"seconds\") \n",
    "    print(\"Total Time:\", t)\n",
    "    print()\n",
    "    i+=1"
   ]
  },
  {
   "cell_type": "markdown",
   "metadata": {},
   "source": [
    "# You will need to impliment popcount_mmio_devmem.c!\n",
    "\n",
    "(It can be found in P4_Popcount_C/Pynq/C)"
   ]
  },
  {
   "cell_type": "code",
   "execution_count": 7,
   "metadata": {},
   "outputs": [
    {
     "name": "stdout",
     "output_type": "stream",
     "text": [
      "Timeing 'tiny.bin'\n",
      "Filename: /home/xilinx/jupyter_notebooks/P4_Popcount_C/Pynq/data/tiny.bin\n",
      "Total Time: 0.03991889953613281\n",
      "\n",
      "Timeing 'ones.bin'\n",
      "Filename: /home/xilinx/jupyter_notebooks/P4_Popcount_C/Pynq/data/ones.bin\n",
      "Total Time: 0.024573564529418945\n",
      "\n",
      "Timeing 'zeros.bin'\n",
      "Filename: /home/xilinx/jupyter_notebooks/P4_Popcount_C/Pynq/data/zeros.bin\n",
      "Total Time: 0.024318456649780273\n",
      "\n",
      "Timeing 'small.bin'\n",
      "Filename: /home/xilinx/jupyter_notebooks/P4_Popcount_C/Pynq/data/small.bin\n",
      "Total Time: 0.025470495223999023\n",
      "\n",
      "Timeing 'medium.bin'\n",
      "Filename: /home/xilinx/jupyter_notebooks/P4_Popcount_C/Pynq/data/medium.bin\n",
      "Total Time: 0.18193459510803223\n",
      "\n",
      "Timeing 'large.bin'\n",
      "Filename: /home/xilinx/jupyter_notebooks/P4_Popcount_C/Pynq/data/large.bin\n",
      "Total Time: 1.5816972255706787\n",
      "\n"
     ]
    }
   ],
   "source": [
    "i=0\n",
    "sw_popcount_results_C = []\n",
    "for file in input_files: # just doing a couple files so this doesn't take forever\n",
    "    print(\"Timeing '\"+names[i]+\"'\")\n",
    "    start = time.time()\n",
    "    os.system(\"./C/software_popcount \"+file)\n",
    "    end = time.time()\n",
    "    t = end - start\n",
    "    sw_popcount_results_python += [t]\n",
    "    print(\"Filename:\",file)\n",
    "    print(\"Total Time:\", t)\n",
    "    print()\n",
    "    i+=1"
   ]
  },
  {
   "cell_type": "code",
   "execution_count": 8,
   "metadata": {},
   "outputs": [
    {
     "name": "stdout",
     "output_type": "stream",
     "text": [
      "Timeing 'tiny.bin'\n",
      "Filename: /home/xilinx/jupyter_notebooks/P4_Popcount_C/Pynq/data/tiny.bin\n",
      "Total Time: 0.11518359184265137\n",
      "\n",
      "Timeing 'ones.bin'\n",
      "Filename: /home/xilinx/jupyter_notebooks/P4_Popcount_C/Pynq/data/ones.bin\n",
      "Total Time: 0.11165404319763184\n",
      "\n",
      "Timeing 'zeros.bin'\n",
      "Filename: /home/xilinx/jupyter_notebooks/P4_Popcount_C/Pynq/data/zeros.bin\n",
      "Total Time: 0.09910726547241211\n",
      "\n",
      "Timeing 'small.bin'\n",
      "Filename: /home/xilinx/jupyter_notebooks/P4_Popcount_C/Pynq/data/small.bin\n",
      "Total Time: 0.10104513168334961\n",
      "\n",
      "Timeing 'medium.bin'\n",
      "Filename: /home/xilinx/jupyter_notebooks/P4_Popcount_C/Pynq/data/medium.bin\n",
      "Total Time: 0.1688547134399414\n",
      "\n",
      "Timeing 'large.bin'\n",
      "Filename: /home/xilinx/jupyter_notebooks/P4_Popcount_C/Pynq/data/large.bin\n",
      "Total Time: 0.6573102474212646\n",
      "\n"
     ]
    }
   ],
   "source": [
    "i=0\n",
    "sw_popcount_results_C = []\n",
    "for file in input_files: # just doing a couple files so this doesn't take forever\n",
    "    print(\"Timeing '\"+names[i]+\"'\")\n",
    "    start = time.time()\n",
    "    os.system(\"sudo ./C/popcount_mmio_devmem \"+file)\n",
    "    end = time.time()\n",
    "    t = end - start\n",
    "    sw_popcount_results_python += [t]\n",
    "    print(\"Filename:\",file)\n",
    "    print(\"Total Time:\", t)\n",
    "    print()\n",
    "    i+=1"
   ]
  },
  {
   "cell_type": "code",
   "execution_count": 9,
   "metadata": {},
   "outputs": [
    {
     "name": "stdout",
     "output_type": "stream",
     "text": [
      "Count = 2048\n",
      "Count = 0\n",
      "Count = 968\n",
      "Count = 16314\n",
      "Count = 4196661\n",
      "Count = 41941497\n"
     ]
    }
   ],
   "source": [
    "# check our counts\n",
    "!./C/software_popcount data/ones.bin\n",
    "!./C/software_popcount data/zeros.bin\n",
    "!./C/software_popcount data/tiny.bin\n",
    "!./C/software_popcount data/small.bin\n",
    "!./C/software_popcount data/medium.bin\n",
    "!./C/software_popcount data/large.bin"
   ]
  },
  {
   "cell_type": "code",
   "execution_count": 10,
   "metadata": {},
   "outputs": [
    {
     "name": "stdout",
     "output_type": "stream",
     "text": [
      "Counted 2048 ones\n",
      "Counted 0 ones\n",
      "Counted 968 ones\n",
      "Counted 16314 ones\n",
      "Counted 4196661 ones\n",
      "Counted 41941497 ones\n"
     ]
    }
   ],
   "source": [
    "# check our counts\n",
    "!sudo ./C/popcount_mmio_devmem data/ones.bin\n",
    "!sudo ./C/popcount_mmio_devmem data/zeros.bin\n",
    "!sudo ./C/popcount_mmio_devmem data/tiny.bin\n",
    "!sudo ./C/popcount_mmio_devmem data/small.bin\n",
    "!sudo ./C/popcount_mmio_devmem data/medium.bin\n",
    "!sudo ./C/popcount_mmio_devmem data/large.bin"
   ]
  }
 ],
 "metadata": {
  "kernelspec": {
   "display_name": "Python 3",
   "language": "python",
   "name": "python3"
  },
  "language_info": {
   "codemirror_mode": {
    "name": "ipython",
    "version": 3
   },
   "file_extension": ".py",
   "mimetype": "text/x-python",
   "name": "python",
   "nbconvert_exporter": "python",
   "pygments_lexer": "ipython3",
   "version": "3.6.5"
  }
 },
 "nbformat": 4,
 "nbformat_minor": 2
}

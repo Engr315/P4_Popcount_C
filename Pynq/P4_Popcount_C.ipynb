{
 "cells": [
  {
   "cell_type": "markdown",
   "metadata": {},
   "source": [
    "## Project 4 - Popcount MMIO in C\n",
    "\n",
    "Version: 2022.0"
   ]
  },
  {
   "cell_type": "code",
   "execution_count": null,
   "metadata": {},
   "outputs": [],
   "source": [
    "import importlib\n",
    "import numpy as np\n",
    "import time\n",
    "import os"
   ]
  },
  {
   "cell_type": "code",
   "execution_count": null,
   "metadata": {},
   "outputs": [],
   "source": [
    "def countInt(n):        \n",
    "    w = 0\n",
    "    while (n):\n",
    "        w += 1\n",
    "        n &= n - 1\n",
    "    return w\n",
    "         \n",
    "def countArray (buf):\n",
    "    total_ones = 0\n",
    "    for b in buf:\n",
    "        total_ones += countInt(b)\n",
    "    return total_ones\n",
    "        \n",
    "def countFile(file):\n",
    "    f = open(file, \"r\")\n",
    "    buf = np.fromfile(f, dtype=np.uint32)\n",
    "    return countArray(buf)      \n",
    "    "
   ]
  },
  {
   "cell_type": "code",
   "execution_count": null,
   "metadata": {},
   "outputs": [],
   "source": [
    "input_files_path = os.getcwd()+'/data/'\n",
    "names = os.listdir(input_files_path)\n",
    "input_files = os.listdir(input_files_path)\n",
    "for i in range(len(input_files)):\n",
    "    input_files[i] = input_files_path + input_files[i]\n",
    "input_files.sort(key=lambda x: os.path.getsize(x))\n",
    "names.sort(key=lambda x: os.path.getsize(\"data/\"+x))"
   ]
  },
  {
   "cell_type": "code",
   "execution_count": null,
   "metadata": {},
   "outputs": [],
   "source": [
    "from Python import MyHardwarePopcount\n",
    "importlib.reload(MyHardwarePopcount)\n",
    "\n",
    "hw_counter = MyHardwarePopcount.MyHardwarePopcount()"
   ]
  },
  {
   "cell_type": "code",
   "execution_count": null,
   "metadata": {},
   "outputs": [],
   "source": [
    "def time_test(files, function, names, print_counts = True):\n",
    "    i = 0\n",
    "    results = []\n",
    "    for file in files: \n",
    "        print(\"Timeing '\"+names[i]+\"'\")\n",
    "        start = time.time()\n",
    "        count = function(file)\n",
    "        end = time.time()\n",
    "        t = end - start\n",
    "        results += [t]\n",
    "        print(\"Filename:\",file)\n",
    "        if print_counts:\n",
    "            print(\"Counted\",count,\"ones in\",t,\"seconds\") \n",
    "        print(\"Total Time:\", t)\n",
    "        print()\n",
    "        i+=1\n",
    "    return results"
   ]
  },
  {
   "cell_type": "code",
   "execution_count": null,
   "metadata": {},
   "outputs": [],
   "source": [
    "def C_software_popcount(file):\n",
    "    os.system(\"./C/software \"+file)\n",
    "    return\n",
    "def C_hardware_popcount(file):\n",
    "    os.system(\"./C/user_mmio \"+file)\n",
    "    return"
   ]
  },
  {
   "cell_type": "markdown",
   "metadata": {},
   "source": [
    "## Test Python software popcount time"
   ]
  },
  {
   "cell_type": "code",
   "execution_count": null,
   "metadata": {},
   "outputs": [],
   "source": [
    "time_test(input_files[:5], countFile, names) # test python software implementation"
   ]
  },
  {
   "cell_type": "markdown",
   "metadata": {},
   "source": [
    "## Test Python hardware popcount time"
   ]
  },
  {
   "cell_type": "code",
   "execution_count": null,
   "metadata": {},
   "outputs": [],
   "source": [
    "time_test(input_files, hw_counter.countFile, names) # test python hardware implementation"
   ]
  },
  {
   "cell_type": "markdown",
   "metadata": {},
   "source": [
    "## Test C software popcount time"
   ]
  },
  {
   "cell_type": "code",
   "execution_count": null,
   "metadata": {},
   "outputs": [],
   "source": [
    "time_test(input_files, C_software_popcount, names, print_counts = False) # test C software implementation"
   ]
  },
  {
   "cell_type": "markdown",
   "metadata": {},
   "source": [
    "# You will need to impliment popcount_mmio_devmem.c!\n",
    "\n",
    "(It can be found in P4_Popcount_C/Pynq/C)"
   ]
  },
  {
   "cell_type": "markdown",
   "metadata": {},
   "source": [
    "## First make sure your counts are correct"
   ]
  },
  {
   "cell_type": "code",
   "execution_count": null,
   "metadata": {},
   "outputs": [],
   "source": [
    "# check our counts\n",
    "!./C/software data/ones.bin\n",
    "!./C/software data/zeros.bin\n",
    "!./C/software data/tiny.bin\n",
    "!./C/software data/small.bin\n",
    "!./C/software data/medium.bin\n",
    "!./C/software data/large.bin"
   ]
  },
  {
   "cell_type": "code",
   "execution_count": null,
   "metadata": {},
   "outputs": [],
   "source": [
    "# check our counts\n",
    "!./C/user_mmio data/ones.bin\n",
    "!./C/user_mmio data/zeros.bin\n",
    "!./C/user_mmio data/tiny.bin\n",
    "!./C/user_mmio data/small.bin\n",
    "!./C/user_mmio data/medium.bin\n",
    "!./C/user_mmio data/large.bin"
   ]
  },
  {
   "cell_type": "markdown",
   "metadata": {},
   "source": [
    "## Test C hardware popcount time"
   ]
  },
  {
   "cell_type": "code",
   "execution_count": null,
   "metadata": {},
   "outputs": [],
   "source": [
    "time_test(input_files, C_hardware_popcount, names, print_counts = False) # test C software implementation"
   ]
  }
 ],
 "metadata": {
  "kernelspec": {
   "display_name": "Python 3",
   "language": "python",
   "name": "python3"
  },
  "language_info": {
   "codemirror_mode": {
    "name": "ipython",
    "version": 3
   },
   "file_extension": ".py",
   "mimetype": "text/x-python",
   "name": "python",
   "nbconvert_exporter": "python",
   "pygments_lexer": "ipython3",
   "version": "3.7.4"
  }
 },
 "nbformat": 4,
 "nbformat_minor": 2
}

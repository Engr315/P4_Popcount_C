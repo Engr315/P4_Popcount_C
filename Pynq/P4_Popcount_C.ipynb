{
 "cells": [
  {
   "cell_type": "markdown",
   "metadata": {},
   "source": [
    "## Project 4 - Popcount MMIO in C\n",
    "\n",
    "Version: 2022.0"
   ]
  },
  {
   "cell_type": "code",
   "execution_count": 1,
   "metadata": {},
   "outputs": [],
   "source": [
    "import importlib\n",
    "import numpy as np\n",
    "import time\n",
    "import os"
   ]
  },
  {
   "cell_type": "code",
   "execution_count": 2,
   "metadata": {},
   "outputs": [],
   "source": [
    "def countInt(n):        \n",
    "    w = 0\n",
    "    while (n):\n",
    "        w += 1\n",
    "        n &= n - 1\n",
    "    return w\n",
    "         \n",
    "def countArray (buf):\n",
    "    total_ones = 0\n",
    "    for b in buf:\n",
    "        total_ones += countInt(b)\n",
    "    return total_ones\n",
    "        \n",
    "def countFile(file):\n",
    "    f = open(file, \"r\")\n",
    "    buf = np.fromfile(f, dtype=np.uint32)\n",
    "    return countArray(buf)      \n",
    "    "
   ]
  },
  {
   "cell_type": "code",
   "execution_count": 3,
   "metadata": {},
   "outputs": [],
   "source": [
    "input_files_path = os.getcwd()+'/data/'\n",
    "names = os.listdir(input_files_path)\n",
    "input_files = os.listdir(input_files_path)\n",
    "for i in range(len(input_files)):\n",
    "    input_files[i] = input_files_path + input_files[i]\n",
    "input_files.sort(key=lambda x: os.path.getsize(x))\n",
    "names.sort(key=lambda x: os.path.getsize(\"data/\"+x))"
   ]
  },
  {
   "cell_type": "code",
   "execution_count": 4,
   "metadata": {},
   "outputs": [
    {
     "data": {
      "application/javascript": [
       "\n",
       "try {\n",
       "require(['notebook/js/codecell'], function(codecell) {\n",
       "  codecell.CodeCell.options_default.highlight_modes[\n",
       "      'magic_text/x-csrc'] = {'reg':[/^%%microblaze/]};\n",
       "  Jupyter.notebook.events.one('kernel_ready.Kernel', function(){\n",
       "      Jupyter.notebook.get_cells().map(function(cell){\n",
       "          if (cell.cell_type == 'code'){ cell.auto_highlight(); } }) ;\n",
       "  });\n",
       "});\n",
       "} catch (e) {};\n"
      ]
     },
     "metadata": {},
     "output_type": "display_data"
    },
    {
     "data": {
      "application/javascript": [
       "\n",
       "try {\n",
       "require(['notebook/js/codecell'], function(codecell) {\n",
       "  codecell.CodeCell.options_default.highlight_modes[\n",
       "      'magic_text/x-csrc'] = {'reg':[/^%%pybind11/]};\n",
       "  Jupyter.notebook.events.one('kernel_ready.Kernel', function(){\n",
       "      Jupyter.notebook.get_cells().map(function(cell){\n",
       "          if (cell.cell_type == 'code'){ cell.auto_highlight(); } }) ;\n",
       "  });\n",
       "});\n",
       "} catch (e) {};\n"
      ]
     },
     "metadata": {},
     "output_type": "display_data"
    }
   ],
   "source": [
    "from Python import MyHardwarePopcount\n",
    "importlib.reload(MyHardwarePopcount)\n",
    "\n",
    "hw_counter = MyHardwarePopcount.MyHardwarePopcount()"
   ]
  },
  {
   "cell_type": "code",
   "execution_count": 5,
   "metadata": {},
   "outputs": [],
   "source": [
    "def time_test(files, function, names, print_counts = True):\n",
    "    i = 0\n",
    "    results = []\n",
    "    for file in files: \n",
    "        print(\"Timeing '\"+names[i]+\"'\")\n",
    "        start = time.time()\n",
    "        count = function(file)\n",
    "        end = time.time()\n",
    "        t = end - start\n",
    "        results += [t]\n",
    "        print(\"Filename:\",file)\n",
    "        if print_counts:\n",
    "            print(\"Counted\",count,\"ones in\",t,\"seconds\") \n",
    "        print(\"Total Time:\", t)\n",
    "        print()\n",
    "        i+=1\n",
    "    return results"
   ]
  },
  {
   "cell_type": "code",
   "execution_count": 6,
   "metadata": {},
   "outputs": [],
   "source": [
    "def C_software_popcount(file):\n",
    "    os.system(\"./C/software_popcount \"+file)\n",
    "    return\n",
    "def C_hardware_popcount(file):\n",
    "    os.system(\"sudo ./C/popcount_mmio_devmem \"+file)\n",
    "    return"
   ]
  },
  {
   "cell_type": "markdown",
   "metadata": {},
   "source": [
    "## Test Python software popcount time"
   ]
  },
  {
   "cell_type": "code",
   "execution_count": 7,
   "metadata": {},
   "outputs": [
    {
     "name": "stdout",
     "output_type": "stream",
     "text": [
      "Timeing 'tiny.bin'\n",
      "Filename: /home/xilinx/jupyter_notebooks/P4_Popcount_C/Pynq/data/tiny.bin\n",
      "Counted 968 ones in 0.017417430877685547 seconds\n",
      "Total Time: 0.017417430877685547\n",
      "\n",
      "Timeing 'ones.bin'\n",
      "Filename: /home/xilinx/jupyter_notebooks/P4_Popcount_C/Pynq/data/ones.bin\n",
      "Counted 2048 ones in 0.023149967193603516 seconds\n",
      "Total Time: 0.023149967193603516\n",
      "\n",
      "Timeing 'zeros.bin'\n",
      "Filename: /home/xilinx/jupyter_notebooks/P4_Popcount_C/Pynq/data/zeros.bin\n",
      "Counted 0 ones in 0.0025517940521240234 seconds\n",
      "Total Time: 0.0025517940521240234\n",
      "\n",
      "Timeing 'small.bin'\n",
      "Filename: /home/xilinx/jupyter_notebooks/P4_Popcount_C/Pynq/data/small.bin\n",
      "Counted 16314 ones in 0.21610808372497559 seconds\n",
      "Total Time: 0.21610808372497559\n",
      "\n",
      "Timeing 'medium.bin'\n",
      "Filename: /home/xilinx/jupyter_notebooks/P4_Popcount_C/Pynq/data/medium.bin\n",
      "Counted 4196661 ones in 49.530019998550415 seconds\n",
      "Total Time: 49.530019998550415\n",
      "\n"
     ]
    },
    {
     "data": {
      "text/plain": [
       "[0.017417430877685547,\n",
       " 0.023149967193603516,\n",
       " 0.0025517940521240234,\n",
       " 0.21610808372497559,\n",
       " 49.530019998550415]"
      ]
     },
     "execution_count": 7,
     "metadata": {},
     "output_type": "execute_result"
    }
   ],
   "source": [
    "time_test(input_files[:5], countFile, names) # test python software implementation"
   ]
  },
  {
   "cell_type": "markdown",
   "metadata": {},
   "source": [
    "## Test Python hardware popcount time"
   ]
  },
  {
   "cell_type": "code",
   "execution_count": 8,
   "metadata": {},
   "outputs": [
    {
     "name": "stdout",
     "output_type": "stream",
     "text": [
      "Timeing 'tiny.bin'\n",
      "Filename: /home/xilinx/jupyter_notebooks/P4_Popcount_C/Pynq/data/tiny.bin\n",
      "Counted 968 ones in 0.005421638488769531 seconds\n",
      "Total Time: 0.005421638488769531\n",
      "\n",
      "Timeing 'ones.bin'\n",
      "Filename: /home/xilinx/jupyter_notebooks/P4_Popcount_C/Pynq/data/ones.bin\n",
      "Counted 2048 ones in 0.007350921630859375 seconds\n",
      "Total Time: 0.007350921630859375\n",
      "\n",
      "Timeing 'zeros.bin'\n",
      "Filename: /home/xilinx/jupyter_notebooks/P4_Popcount_C/Pynq/data/zeros.bin\n",
      "Counted 0 ones in 0.003841400146484375 seconds\n",
      "Total Time: 0.003841400146484375\n",
      "\n",
      "Timeing 'small.bin'\n",
      "Filename: /home/xilinx/jupyter_notebooks/P4_Popcount_C/Pynq/data/small.bin\n",
      "Counted 16314 ones in 0.03695321083068848 seconds\n",
      "Total Time: 0.03695321083068848\n",
      "\n",
      "Timeing 'medium.bin'\n",
      "Filename: /home/xilinx/jupyter_notebooks/P4_Popcount_C/Pynq/data/medium.bin\n",
      "Counted 4196661 ones in 8.052099466323853 seconds\n",
      "Total Time: 8.052099466323853\n",
      "\n",
      "Timeing 'large.bin'\n",
      "Filename: /home/xilinx/jupyter_notebooks/P4_Popcount_C/Pynq/data/large.bin\n",
      "Counted 41941497 ones in 79.61450529098511 seconds\n",
      "Total Time: 79.61450529098511\n",
      "\n"
     ]
    },
    {
     "data": {
      "text/plain": [
       "[0.005421638488769531,\n",
       " 0.007350921630859375,\n",
       " 0.003841400146484375,\n",
       " 0.03695321083068848,\n",
       " 8.052099466323853,\n",
       " 79.61450529098511]"
      ]
     },
     "execution_count": 8,
     "metadata": {},
     "output_type": "execute_result"
    }
   ],
   "source": [
    "time_test(input_files, hw_counter.countFile, names) # test python hardware implementation"
   ]
  },
  {
   "cell_type": "markdown",
   "metadata": {},
   "source": [
    "## Test C software popcount time"
   ]
  },
  {
   "cell_type": "code",
   "execution_count": 9,
   "metadata": {},
   "outputs": [
    {
     "name": "stdout",
     "output_type": "stream",
     "text": [
      "Timeing 'tiny.bin'\n",
      "Filename: /home/xilinx/jupyter_notebooks/P4_Popcount_C/Pynq/data/tiny.bin\n",
      "Total Time: 0.028749465942382812\n",
      "\n",
      "Timeing 'ones.bin'\n",
      "Filename: /home/xilinx/jupyter_notebooks/P4_Popcount_C/Pynq/data/ones.bin\n",
      "Total Time: 0.024577856063842773\n",
      "\n",
      "Timeing 'zeros.bin'\n",
      "Filename: /home/xilinx/jupyter_notebooks/P4_Popcount_C/Pynq/data/zeros.bin\n",
      "Total Time: 0.02486252784729004\n",
      "\n",
      "Timeing 'small.bin'\n",
      "Filename: /home/xilinx/jupyter_notebooks/P4_Popcount_C/Pynq/data/small.bin\n",
      "Total Time: 0.025208711624145508\n",
      "\n",
      "Timeing 'medium.bin'\n",
      "Filename: /home/xilinx/jupyter_notebooks/P4_Popcount_C/Pynq/data/medium.bin\n",
      "Total Time: 0.18236684799194336\n",
      "\n",
      "Timeing 'large.bin'\n",
      "Filename: /home/xilinx/jupyter_notebooks/P4_Popcount_C/Pynq/data/large.bin\n",
      "Total Time: 1.583094596862793\n",
      "\n"
     ]
    },
    {
     "data": {
      "text/plain": [
       "[0.028749465942382812,\n",
       " 0.024577856063842773,\n",
       " 0.02486252784729004,\n",
       " 0.025208711624145508,\n",
       " 0.18236684799194336,\n",
       " 1.583094596862793]"
      ]
     },
     "execution_count": 9,
     "metadata": {},
     "output_type": "execute_result"
    }
   ],
   "source": [
    "time_test(input_files, C_software_popcount, names, print_counts = False) # test C software implementation"
   ]
  },
  {
   "cell_type": "markdown",
   "metadata": {},
   "source": [
    "# You will need to impliment popcount_mmio_devmem.c!\n",
    "\n",
    "(It can be found in P4_Popcount_C/Pynq/C)"
   ]
  },
  {
   "cell_type": "markdown",
   "metadata": {},
   "source": [
    "## Test C hardware popcount time"
   ]
  },
  {
   "cell_type": "code",
   "execution_count": 10,
   "metadata": {},
   "outputs": [
    {
     "name": "stdout",
     "output_type": "stream",
     "text": [
      "Timeing 'tiny.bin'\n",
      "Filename: /home/xilinx/jupyter_notebooks/P4_Popcount_C/Pynq/data/tiny.bin\n",
      "Total Time: 0.10289287567138672\n",
      "\n",
      "Timeing 'ones.bin'\n",
      "Filename: /home/xilinx/jupyter_notebooks/P4_Popcount_C/Pynq/data/ones.bin\n",
      "Total Time: 0.10620403289794922\n",
      "\n",
      "Timeing 'zeros.bin'\n",
      "Filename: /home/xilinx/jupyter_notebooks/P4_Popcount_C/Pynq/data/zeros.bin\n",
      "Total Time: 0.0974581241607666\n",
      "\n",
      "Timeing 'small.bin'\n",
      "Filename: /home/xilinx/jupyter_notebooks/P4_Popcount_C/Pynq/data/small.bin\n",
      "Total Time: 0.09849429130554199\n",
      "\n",
      "Timeing 'medium.bin'\n",
      "Filename: /home/xilinx/jupyter_notebooks/P4_Popcount_C/Pynq/data/medium.bin\n",
      "Total Time: 0.16065192222595215\n",
      "\n",
      "Timeing 'large.bin'\n",
      "Filename: /home/xilinx/jupyter_notebooks/P4_Popcount_C/Pynq/data/large.bin\n",
      "Total Time: 0.655937910079956\n",
      "\n"
     ]
    },
    {
     "data": {
      "text/plain": [
       "[0.10289287567138672,\n",
       " 0.10620403289794922,\n",
       " 0.0974581241607666,\n",
       " 0.09849429130554199,\n",
       " 0.16065192222595215,\n",
       " 0.655937910079956]"
      ]
     },
     "execution_count": 10,
     "metadata": {},
     "output_type": "execute_result"
    }
   ],
   "source": [
    "time_test(input_files, C_hardware_popcount, names, print_counts = False) # test C software implementation"
   ]
  },
  {
   "cell_type": "markdown",
   "metadata": {},
   "source": [
    "## Make sure the counts are what we expect"
   ]
  },
  {
   "cell_type": "code",
   "execution_count": 11,
   "metadata": {},
   "outputs": [
    {
     "name": "stdout",
     "output_type": "stream",
     "text": [
      "Count = 2048\n",
      "Count = 0\n",
      "Count = 968\n",
      "Count = 16314\n",
      "Count = 4196661\n",
      "Count = 41941497\n"
     ]
    }
   ],
   "source": [
    "# check our counts\n",
    "!./C/software_popcount data/ones.bin\n",
    "!./C/software_popcount data/zeros.bin\n",
    "!./C/software_popcount data/tiny.bin\n",
    "!./C/software_popcount data/small.bin\n",
    "!./C/software_popcount data/medium.bin\n",
    "!./C/software_popcount data/large.bin"
   ]
  },
  {
   "cell_type": "code",
   "execution_count": 12,
   "metadata": {},
   "outputs": [
    {
     "name": "stdout",
     "output_type": "stream",
     "text": [
      "Counted 2048 ones\n",
      "Counted 0 ones\n",
      "Counted 968 ones\n",
      "Counted 16314 ones\n",
      "Counted 4196661 ones\n",
      "Counted 41941497 ones\n"
     ]
    }
   ],
   "source": [
    "# check our counts\n",
    "!sudo ./C/popcount_mmio_devmem data/ones.bin\n",
    "!sudo ./C/popcount_mmio_devmem data/zeros.bin\n",
    "!sudo ./C/popcount_mmio_devmem data/tiny.bin\n",
    "!sudo ./C/popcount_mmio_devmem data/small.bin\n",
    "!sudo ./C/popcount_mmio_devmem data/medium.bin\n",
    "!sudo ./C/popcount_mmio_devmem data/large.bin"
   ]
  },
  {
   "cell_type": "code",
   "execution_count": null,
   "metadata": {},
   "outputs": [],
   "source": []
  }
 ],
 "metadata": {
  "kernelspec": {
   "display_name": "Python 3",
   "language": "python",
   "name": "python3"
  },
  "language_info": {
   "codemirror_mode": {
    "name": "ipython",
    "version": 3
   },
   "file_extension": ".py",
   "mimetype": "text/x-python",
   "name": "python",
   "nbconvert_exporter": "python",
   "pygments_lexer": "ipython3",
   "version": "3.6.5"
  }
 },
 "nbformat": 4,
 "nbformat_minor": 2
}
